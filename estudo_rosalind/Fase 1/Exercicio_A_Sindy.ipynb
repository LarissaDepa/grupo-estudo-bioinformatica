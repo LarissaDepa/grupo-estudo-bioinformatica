{
  "nbformat": 4,
  "nbformat_minor": 0,
  "metadata": {
    "colab": {
      "name": "Exercicio_A_Sindy.ipynb",
      "provenance": []
    },
    "kernelspec": {
      "name": "python3",
      "display_name": "Python 3"
    },
    "language_info": {
      "name": "python"
    }
  },
  "cells": [
    {
      "cell_type": "markdown",
      "metadata": {
        "id": "k6kiCHg2-U3F"
      },
      "source": [
        "# **Exercise 1: Counting DNA Nucleotides**"
      ]
    },
    {
      "cell_type": "markdown",
      "metadata": {
        "id": "Akeh2erv-aVb"
      },
      "source": [
        "**Link: http://rosalind.info/problems/dna/**\n",
        "\n",
        "**Intro:**\n",
        "\n",
        "Making up all living material, the cell is considered to be the building block of life. The nucleus, a component of most eukaryotic cells, was identified as the hub of cellular activity 150 years ago. Viewed under a light microscope, the nucleus appears only as a darker region of the cell, but as we increase magnification, we find that the nucleus is densely filled with a stew of macromolecules called chromatin. During mitosis (eukaryotic cell division), most of the chromatin condenses into long, thin strings called chromosomes. See Figure 1 for a figure of cells in different stages of mitosis.\n",
        "\n",
        "One class of the macromolecules contained in chromatin are called nucleic acids. Early 20th century research into the chemical identity of nucleic acids culminated with the conclusion that nucleic acids are polymers, or repeating chains of smaller, similarly structured molecules known as monomers. Because of their tendency to be long and thin, nucleic acid polymers are commonly called strands.\n",
        "\n",
        "The nucleic acid monomer is called a nucleotide and is used as a unit of strand length (abbreviated to nt). Each nucleotide is formed of three parts: a sugar molecule, a negatively charged ion called a phosphate, and a compound called a nucleobase (\"base\" for short). Polymerization is achieved as the sugar of one nucleotide bonds to the phosphate of the next nucleotide in the chain, which forms a sugar-phosphate backbone for the nucleic acid strand. A key point is that the nucleotides of a specific type of nucleic acid always contain the same sugar and phosphate molecules, and they differ only in their choice of base. Thus, one strand of a nucleic acid can be differentiated from another based solely on the order of its bases; this ordering of bases defines a nucleic acid's primary structure.\n",
        "\n",
        "For example, Figure 2 shows a strand of deoxyribose nucleic acid (DNA), in which the sugar is called deoxyribose, and the only four choices for nucleobases are molecules called adenine (A), cytosine (C), guanine (G), and thymine (T).\n",
        "\n",
        "For reasons we will soon see, DNA is found in all living organisms on Earth, including bacteria; it is even found in many viruses (which are often considered to be nonliving). Because of its importance, we reserve the term genome to refer to the sum total of the DNA contained in an organism's chromosomes.\n",
        "\n",
        "**Problem:**\n",
        "\n",
        "A string is simply an ordered collection of symbols selected from some alphabet and formed into a word; the length of a string is the number of symbols that it contains.\n",
        "\n",
        "An example of a length 21 DNA string (whose alphabet contains the symbols 'A', 'C', 'G', and 'T') is \"ATGCTTCAGAAAGGTCTTACG.\"\n",
        "\n",
        "**Given:** \n",
        "- A DNA string s of length at most 1000 nt.\n",
        "\n",
        "**Return:** \n",
        "- Four integers (separated by spaces) counting the respective number of times that the symbols 'A', 'C', 'G', and 'T' occur in s.\n",
        "\n",
        "**Sample Dataset:**\n",
        "\n",
        "AGCTTTTCATTCTGACTGCAACGGGCAATATGTCTCTGTGTGGATTAAAAAAAGAGTGTCTGATAGCAGC\n",
        "\n",
        "**Sample Output:**\n",
        "\n",
        "20 12 17 21"
      ]
    },
    {
      "cell_type": "markdown",
      "metadata": {
        "id": "km9uJS4KT2Mi"
      },
      "source": [
        "## **Manual and using BioPython**"
      ]
    },
    {
      "cell_type": "markdown",
      "metadata": {
        "id": "qp402cJtrst-"
      },
      "source": [
        "- Both of them (manual form and Biopython library use the same function - count() "
      ]
    },
    {
      "cell_type": "markdown",
      "metadata": {
        "id": "HG51rOujoWsC"
      },
      "source": [
        "- **From the sample:**"
      ]
    },
    {
      "cell_type": "markdown",
      "metadata": {
        "id": "O8r_9eLAtVhY"
      },
      "source": [
        "**String Formatting**\n",
        "\n",
        "```\n",
        "%s - String (or any object with a string representation, like numbers)\n",
        "\n",
        "%d - Integers\n",
        "\n",
        "%f - Floating point numbers\n",
        "\n",
        "%.<number of digits>f - Floating point numbers with a fixed amount of digits to the right of the dot.\n",
        "\n",
        "%x/%X - Integers in hex representation (lowercase/uppercase)\n",
        "\n",
        "```"
      ]
    },
    {
      "cell_type": "code",
      "metadata": {
        "colab": {
          "base_uri": "https://localhost:8080/"
        },
        "id": "ouTM3VyQk2Gi",
        "outputId": "f0a9c3f1-3aee-44f4-ddd1-c78e107fe632"
      },
      "source": [
        "# Creating the variable...\n",
        "dna = \"AGCTTTTCATTCTGACTGCAACGGGCAATATGTCTCTGTGTGGATTAAAAAAAGAGTGTCTGATAGCAGC\"\n",
        "\n",
        "# Counting the number of \"A\", \"C\", \"G\" e \"T\" in the given seq...\n",
        "a = dna.count(\"A\")\n",
        "c = dna.count(\"C\")\n",
        "g = dna.count(\"G\")\n",
        "t = dna.count(\"T\")\n",
        "print(a, c, g, t)\n",
        "print(f\"A = {a} C = {c} G = {g} T = {t}\")\n",
        "print(\"A = %d\" % a, \"C = %d\" % c, \"G = %d\" % g, \"T = %d\" % t)"
      ],
      "execution_count": null,
      "outputs": [
        {
          "output_type": "stream",
          "text": [
            "20 12 17 21\n",
            "A = 20 C = 12 G = 17 T = 21\n",
            "A = 20 C = 12 G = 17 T = 21\n"
          ],
          "name": "stdout"
        }
      ]
    },
    {
      "cell_type": "markdown",
      "metadata": {
        "id": "NwddTCy7oaKl"
      },
      "source": [
        "- **From the file:**"
      ]
    },
    {
      "cell_type": "code",
      "metadata": {
        "colab": {
          "base_uri": "https://localhost:8080/",
          "height": 154
        },
        "id": "UQDNbe97T4_G",
        "outputId": "454ef65b-94f6-4d6b-9b52-efae3aae90a0"
      },
      "source": [
        "dna = \"TGGTACGGCTTGGGCCATCGGGCATCACAGCGCCTCAATGTCCTGTTCGTTCCTGGAATAGATCCTCCCTAGTGGCCTGATATGCAGTAGTGAACTAGTTCTCACGTTGCGTTCGAAGATCTCGTTACAGTACGTCTTAGGGGGATCACGAAGCTGGTTAGCCCGATACGGTAGGTGGAGACTTACACACGTCTATACAGTCACTTCGTTCTAGGGACGCTCACGTATGCTGACCATGCAGACCGCGTGTCAGGCTGGTATCGACACGGTTGTGTGAGGTCGTACAGCACATCCAGAGAGTATTGTGACTAATAGCTAATGAGGTGGTGCTCCCCCTACACTTCTTTACGGTACTATCCTGCTTTATACGTAGGGCTACACTACTGTTAAGATATCAGTGCGCAGCTGATTGAATCCTCGATCAGGCTATACTTTCTGAGATCCCTATTGCCCCGCATGATGCGGTGCTGGACCTGTGTCCTCCTCCATCGAAGGGATTAACTTAGTGATCGTACGTGAAAAAAATTCCGACCAATTAATGCAAAACACGGTGTGTAAAAGCAAGAGTATAATCCTCGGGTTGTTAAGGTTTCCTACAATATACAGGCCTCTAAATAATGTCTGAGTGGCACTGAGTTCACAAGGAAGTGGGGAATCGAGGCCGCCAAGTGTCACGCATCGCCAAATGGCTACTAGGGCTCCTGCTGTATTACGGCAATTATATCTGGTCCATTGGAGGCACGGACACTATTCGACATCTCGGAACATAGCGAAGCGCAGCTACATGTGACACCCCGAAGTCAGAGAGATTTTGGTGAGTTGTGGTATTTGAGTCGTCCCTCCAAGGCAGGGTAAGAGGCAATCCAGATAGAAGTTACTTATTCGTTGCCACCCCCAGTATCGCGA\"\n",
        "dna"
      ],
      "execution_count": null,
      "outputs": [
        {
          "output_type": "execute_result",
          "data": {
            "application/vnd.google.colaboratory.intrinsic+json": {
              "type": "string"
            },
            "text/plain": [
              "'TGGTACGGCTTGGGCCATCGGGCATCACAGCGCCTCAATGTCCTGTTCGTTCCTGGAATAGATCCTCCCTAGTGGCCTGATATGCAGTAGTGAACTAGTTCTCACGTTGCGTTCGAAGATCTCGTTACAGTACGTCTTAGGGGGATCACGAAGCTGGTTAGCCCGATACGGTAGGTGGAGACTTACACACGTCTATACAGTCACTTCGTTCTAGGGACGCTCACGTATGCTGACCATGCAGACCGCGTGTCAGGCTGGTATCGACACGGTTGTGTGAGGTCGTACAGCACATCCAGAGAGTATTGTGACTAATAGCTAATGAGGTGGTGCTCCCCCTACACTTCTTTACGGTACTATCCTGCTTTATACGTAGGGCTACACTACTGTTAAGATATCAGTGCGCAGCTGATTGAATCCTCGATCAGGCTATACTTTCTGAGATCCCTATTGCCCCGCATGATGCGGTGCTGGACCTGTGTCCTCCTCCATCGAAGGGATTAACTTAGTGATCGTACGTGAAAAAAATTCCGACCAATTAATGCAAAACACGGTGTGTAAAAGCAAGAGTATAATCCTCGGGTTGTTAAGGTTTCCTACAATATACAGGCCTCTAAATAATGTCTGAGTGGCACTGAGTTCACAAGGAAGTGGGGAATCGAGGCCGCCAAGTGTCACGCATCGCCAAATGGCTACTAGGGCTCCTGCTGTATTACGGCAATTATATCTGGTCCATTGGAGGCACGGACACTATTCGACATCTCGGAACATAGCGAAGCGCAGCTACATGTGACACCCCGAAGTCAGAGAGATTTTGGTGAGTTGTGGTATTTGAGTCGTCCCTCCAAGGCAGGGTAAGAGGCAATCCAGATAGAAGTTACTTATTCGTTGCCACCCCCAGTATCGCGA'"
            ]
          },
          "metadata": {
            "tags": []
          },
          "execution_count": 109
        }
      ]
    },
    {
      "cell_type": "code",
      "metadata": {
        "colab": {
          "base_uri": "https://localhost:8080/"
        },
        "id": "9AlSM-o2o-3m",
        "outputId": "e71f2188-af07-4e1e-9eac-f4c4d2021fa0"
      },
      "source": [
        "# Counting the number of \"A\", \"C\", \"G\" e \"T\" in the given seq...\n",
        "a = dna.count(\"A\")\n",
        "c = dna.count(\"C\")\n",
        "g = dna.count(\"G\")\n",
        "t = dna.count(\"T\")\n",
        "print(a, c, g, t)"
      ],
      "execution_count": null,
      "outputs": [
        {
          "output_type": "stream",
          "text": [
            "224 215 231 236\n"
          ],
          "name": "stdout"
        }
      ]
    }
  ]
}