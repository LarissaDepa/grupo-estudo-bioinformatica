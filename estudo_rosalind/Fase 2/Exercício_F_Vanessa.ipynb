{
  "nbformat": 4,
  "nbformat_minor": 0,
  "metadata": {
    "colab": {
      "name": "Exercício_F_Vanessa.ipynb",
      "provenance": [],
      "authorship_tag": "ABX9TyP5EOHhRoYFcIu69VZWjVJT"
    },
    "kernelspec": {
      "name": "python3",
      "display_name": "Python 3"
    },
    "language_info": {
      "name": "python"
    }
  },
  "cells": [
    {
      "cell_type": "markdown",
      "metadata": {
        "id": "qhTfyIrnakAW"
      },
      "source": [
        "#**Encontro 04/04/21**"
      ]
    },
    {
      "cell_type": "markdown",
      "metadata": {
        "id": "7f66RHce2T_b"
      },
      "source": [
        "###RNA Splicing"
      ]
    },
    {
      "cell_type": "code",
      "metadata": {
        "colab": {
          "base_uri": "https://localhost:8080/"
        },
        "id": "RNtgvsP8ahKn",
        "outputId": "f05ceb51-bfbb-4e69-bff9-021a21da2b0e"
      },
      "source": [
        "pip install biopython"
      ],
      "execution_count": null,
      "outputs": [
        {
          "output_type": "stream",
          "text": [
            "Requirement already satisfied: biopython in /usr/local/lib/python3.7/dist-packages (1.78)\n",
            "Requirement already satisfied: numpy in /usr/local/lib/python3.7/dist-packages (from biopython) (1.19.5)\n"
          ],
          "name": "stdout"
        }
      ]
    },
    {
      "cell_type": "code",
      "metadata": {
        "id": "f43djTOAbEIy"
      },
      "source": [
        "from Bio import SeqIO\n",
        "from Bio.Seq import Seq"
      ],
      "execution_count": null,
      "outputs": []
    },
    {
      "cell_type": "code",
      "metadata": {
        "id": "-6nK1kENbUFI"
      },
      "source": [
        "# leitura do arquivo fasta\n",
        "arquivo = SeqIO.parse(\"/content/rosalind_splc.txt\", \"fasta\")"
      ],
      "execution_count": null,
      "outputs": []
    },
    {
      "cell_type": "code",
      "metadata": {
        "colab": {
          "base_uri": "https://localhost:8080/"
        },
        "id": "iiwJVkhzEzb2",
        "outputId": "8aa13951-3aa0-4a0e-e26b-bb86b02ec093"
      },
      "source": [
        "arquivo"
      ],
      "execution_count": null,
      "outputs": [
        {
          "output_type": "execute_result",
          "data": {
            "text/plain": [
              "<Bio.SeqIO.FastaIO.FastaIterator at 0x7fba880b7350>"
            ]
          },
          "metadata": {
            "tags": []
          },
          "execution_count": 6
        }
      ]
    },
    {
      "cell_type": "code",
      "metadata": {
        "id": "SAbjMKp8bnCa"
      },
      "source": [
        "# guardar as sequências em uma lista\n",
        "sequencias = []\n",
        "\n",
        "for item in arquivo:\n",
        "  sequencias.append(str(item.seq))"
      ],
      "execution_count": null,
      "outputs": []
    },
    {
      "cell_type": "code",
      "metadata": {
        "colab": {
          "base_uri": "https://localhost:8080/"
        },
        "id": "9MOMa42ebpXv",
        "outputId": "33beb2be-6cc7-4f66-b062-4fe240502f12"
      },
      "source": [
        "print(sequencias)"
      ],
      "execution_count": null,
      "outputs": [
        {
          "output_type": "stream",
          "text": [
            "['ATGGTTATACAATGCCCAAGCGGAATGTATCGCCTTCCCCAGCGAACTTTTTCCTGGGGATAGTCCAGCCTATCCACTGGCTTCAATCAGTGCAAGTGACCCTTAGGCGCGATAGACCACTCCTTTGACGCTGGTTGAGGTTTTGCAGGCCTCAGGAAACTAGGCCCGCTCGGCGACCCCCAAAGCCACGATCAGTCTACGGAGTCACCATTGTAATGCTAGTGAGCGCAGTCGCATAAGGAGATCAAAACGGGGATCGAAGCCTATTTGATGCAACTGTGTTTCGTGGGAAGGTTTCGACCGCTATCCCAGATTCCATTCGGGGCGGAAGAGGTTCCCGAGCGGTCTTGTATTCTAGGCGTGATCCAGTAAACGAAACTCACAGCTCAATCCACTGACTGAGGTAGTAACTGACCGAATAGCTACGACTCATGGAATTCAACTTTCGCGGAACGTGACGCAGACTCAGATACATCCTAGATAATCGGAAGAACCGGTATGTCATTCTTGTTCTACGTTTCCTAAGAGGGTAAAGATGCGCTCCGTATAAATCTTAACTTTTGATTCCGTTCCTTCAGCGGCACTTCAAGTTTCTGTGTGGGCTTTCATGGGTAGTTGAAGGTACGGGGGCTAGTAACAGCCGTAGATGCGGGCAGGATTCCCCGATCCTGCCAGAAAAATGCGATCTTAAAGGTTCGGGCATACTCAGGCTCTAGAGCCCAACGAGCGTTACATGCCGTTTTTGAGTCAAACCTTTGAGTTGCACACCTCGATGGAGGAAAGATTTTCAGATTGTTAGAACAGGGGTAGACCCACTAGTGTTCTCACTTTCTAGAATCGTCAGCTTGCAGACCTCTCACTGCTTCTAAGCCTAAATGGTCCCCAGCAAATGTTCCTAACTATAAAGAATCTATCTACGTCGTTAGGTAGTGTAACCTACAAGCGTCTCAGTTGGTGTCCCGTCACGCATCGGTCCGCCACCCCCCATAG', 'CTACGTTTCCTAAGAGGGTAAAGATGCGCTCCGTATAA', 'TCAGCGGCACTTCAAGTTTCTGTGTGGGCTTTCATGGGTAGTTGAAG', 'GTGATCCAGTAAACGAAACTCACAGCTCAATCCACTG', 'TTCGTGGGAAGGTTTCGACCGCTATCCCAGATT', 'GTTCCTAACTATA', 'GCCTCAGGAAACTAGGCC', 'AATGCTAGTGAGCGCAGTCGCAT', 'AAGCGTCTCAGTTGGTGTCCCGT', 'GCGGAACGTGA', 'TTGCACACCTCGAT', 'GGGTAGACCCACTAGTGTTCTCACTTTCTAGAATCG', 'CGAATAGCTACGACTCA', 'TTCAATCAGTGCAAGTGACCCTTAGGCGCGATAGACCACTCCTTTG', 'GGAATGTATCGCCTTCCCCAGCGAACTTTTTCCTGGGGATAGTCC', 'AATGCGATCTTAAAGGTTCGGG']\n"
          ],
          "name": "stdout"
        }
      ]
    },
    {
      "cell_type": "code",
      "metadata": {
        "id": "WQwU8ASncHuG"
      },
      "source": [
        "# separar a sequência principal dos íntrons\n",
        "sequencia = sequencias[0]\n",
        "introns = sequencias[1:]"
      ],
      "execution_count": null,
      "outputs": []
    },
    {
      "cell_type": "code",
      "metadata": {
        "colab": {
          "base_uri": "https://localhost:8080/"
        },
        "id": "00ZyQ1JBcLhy",
        "outputId": "9f19860d-2bf9-4d2c-d644-4cee74e09ccb"
      },
      "source": [
        "print(sequencia)\n",
        "print(introns)"
      ],
      "execution_count": null,
      "outputs": [
        {
          "output_type": "stream",
          "text": [
            "ATGGTTATACAATGCCCAAGCGGAATGTATCGCCTTCCCCAGCGAACTTTTTCCTGGGGATAGTCCAGCCTATCCACTGGCTTCAATCAGTGCAAGTGACCCTTAGGCGCGATAGACCACTCCTTTGACGCTGGTTGAGGTTTTGCAGGCCTCAGGAAACTAGGCCCGCTCGGCGACCCCCAAAGCCACGATCAGTCTACGGAGTCACCATTGTAATGCTAGTGAGCGCAGTCGCATAAGGAGATCAAAACGGGGATCGAAGCCTATTTGATGCAACTGTGTTTCGTGGGAAGGTTTCGACCGCTATCCCAGATTCCATTCGGGGCGGAAGAGGTTCCCGAGCGGTCTTGTATTCTAGGCGTGATCCAGTAAACGAAACTCACAGCTCAATCCACTGACTGAGGTAGTAACTGACCGAATAGCTACGACTCATGGAATTCAACTTTCGCGGAACGTGACGCAGACTCAGATACATCCTAGATAATCGGAAGAACCGGTATGTCATTCTTGTTCTACGTTTCCTAAGAGGGTAAAGATGCGCTCCGTATAAATCTTAACTTTTGATTCCGTTCCTTCAGCGGCACTTCAAGTTTCTGTGTGGGCTTTCATGGGTAGTTGAAGGTACGGGGGCTAGTAACAGCCGTAGATGCGGGCAGGATTCCCCGATCCTGCCAGAAAAATGCGATCTTAAAGGTTCGGGCATACTCAGGCTCTAGAGCCCAACGAGCGTTACATGCCGTTTTTGAGTCAAACCTTTGAGTTGCACACCTCGATGGAGGAAAGATTTTCAGATTGTTAGAACAGGGGTAGACCCACTAGTGTTCTCACTTTCTAGAATCGTCAGCTTGCAGACCTCTCACTGCTTCTAAGCCTAAATGGTCCCCAGCAAATGTTCCTAACTATAAAGAATCTATCTACGTCGTTAGGTAGTGTAACCTACAAGCGTCTCAGTTGGTGTCCCGTCACGCATCGGTCCGCCACCCCCCATAG\n",
            "['CTACGTTTCCTAAGAGGGTAAAGATGCGCTCCGTATAA', 'TCAGCGGCACTTCAAGTTTCTGTGTGGGCTTTCATGGGTAGTTGAAG', 'GTGATCCAGTAAACGAAACTCACAGCTCAATCCACTG', 'TTCGTGGGAAGGTTTCGACCGCTATCCCAGATT', 'GTTCCTAACTATA', 'GCCTCAGGAAACTAGGCC', 'AATGCTAGTGAGCGCAGTCGCAT', 'AAGCGTCTCAGTTGGTGTCCCGT', 'GCGGAACGTGA', 'TTGCACACCTCGAT', 'GGGTAGACCCACTAGTGTTCTCACTTTCTAGAATCG', 'CGAATAGCTACGACTCA', 'TTCAATCAGTGCAAGTGACCCTTAGGCGCGATAGACCACTCCTTTG', 'GGAATGTATCGCCTTCCCCAGCGAACTTTTTCCTGGGGATAGTCC', 'AATGCGATCTTAAAGGTTCGGG']\n"
          ],
          "name": "stdout"
        }
      ]
    },
    {
      "cell_type": "code",
      "metadata": {
        "id": "3m29qROKcoFf"
      },
      "source": [
        "# função que remove os íntrons\n",
        "def remove_introns(sequencia, introns):\n",
        "  for intron in introns:\n",
        "    sequencia = sequencia.split(intron)\n",
        "    sequencia = \"\".join(sequencia)\n",
        "\n",
        "  return sequencia"
      ],
      "execution_count": null,
      "outputs": []
    },
    {
      "cell_type": "code",
      "metadata": {
        "id": "p5wD2Lg_fBkW"
      },
      "source": [
        "# função que faz a tradução da sequência\n",
        "def traducao_sequencia(sequencia):\n",
        "\n",
        "  seq = Seq(sequencia)\n",
        "  proteina = seq.translate(to_stop=True)\n",
        "\n",
        "  return proteina"
      ],
      "execution_count": null,
      "outputs": []
    },
    {
      "cell_type": "code",
      "metadata": {
        "id": "UAZyhiIAfKnr",
        "colab": {
          "base_uri": "https://localhost:8080/",
          "height": 119
        },
        "outputId": "f8cd3ca6-07fe-4d33-ee3a-d082dc537bf0"
      },
      "source": [
        "# chamando a função que remove íntrons\n",
        "sequencia = remove_introns(sequencia, introns)\n",
        "sequencia"
      ],
      "execution_count": null,
      "outputs": [
        {
          "output_type": "execute_result",
          "data": {
            "application/vnd.google.colaboratory.intrinsic+json": {
              "type": "string"
            },
            "text/plain": [
              "'ATGGTTATACAATGCCCAAGCAGCCTATCCACTGGCACGCTGGTTGAGGTTTTGCAGCGCTCGGCGACCCCCAAAGCCACGATCAGTCTACGGAGTCACCATTGTAAGGAGATCAAAACGGGGATCGAAGCCTATTTGATGCAACTGTGTCCATTCGGGGCGGAAGAGGTTCCCGAGCGGTCTTGTATTCTAGGCACTGAGGTAGTAACTGACTGGAATTCAACTTTCCGCAGACTCAGATACATCCTAGATAATCGGAAGAACCGGTATGTCATTCTTGTTATCTTAACTTTTGATTCCGTTCCTGTACGGGGGCTAGTAACAGCCGTAGATGCGGGCAGGATTCCCCGATCCTGCCAGAAACATACTCAGGCTCTAGAGCCCAACGAGCGTTACATGCCGTTTTTGAGTCAAACCTTTGAGGGAGGAAAGATTTTCAGATTGTTAGAACAGTCAGCTTGCAGACCTCTCACTGCTTCTAAGCCTAAATGGTCCCCAGCAAATAAGAATCTATCTACGTCGTTAGGTAGTGTAACCTACCACGCATCGGTCCGCCACCCCCCATAG'"
            ]
          },
          "metadata": {
            "tags": []
          },
          "execution_count": 13
        }
      ]
    },
    {
      "cell_type": "code",
      "metadata": {
        "id": "nsNT7ziXcawp",
        "colab": {
          "base_uri": "https://localhost:8080/"
        },
        "outputId": "4f0ebd99-b9ae-43d0-d44c-9d21603f7a63"
      },
      "source": [
        "# chamando a função que faz a tradução\n",
        "proteina = traducao_sequencia(sequencia)\n",
        "print(proteina)"
      ],
      "execution_count": null,
      "outputs": [
        {
          "output_type": "stream",
          "text": [
            "MVIQCPSSLSTGTLVEVLQRSATPKATISLRSHHCKEIKTGIEAYLMQLCPFGAEEVPERSCILGTEVVTDWNSTFRRLRYILDNRKNRYVILVILTFDSVPVRGLVTAVDAGRIPRSCQKHTQALEPNERYMPFLSQTFEGGKIFRLLEQSACRPLTASKPKWSPANKNLSTSLGSVTYHASVRHPP\n"
          ],
          "name": "stdout"
        }
      ]
    }
  ]
}