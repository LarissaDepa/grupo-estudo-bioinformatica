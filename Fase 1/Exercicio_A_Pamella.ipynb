{
 "cells": [
  {
   "cell_type": "markdown",
   "metadata": {
    "id": "FFUWH4s7N4ak"
   },
   "source": [
    "A 1 - http://rosalind.info/problems/dna/\n",
    "Dado DNA: AGCTTTTCATTCTGACTGCAACGGGCAATATGTCTCTGTGTGGATTAAAAAAAGAGTGTCTGATAGCAGC"
   ]
  },
  {
   "cell_type": "code",
   "execution_count": 4,
   "metadata": {
    "colab": {
     "base_uri": "https://localhost:8080/",
     "height": 34
    },
    "id": "TCHD1BEUN_Se",
    "outputId": "94094d21-2bc8-4de4-84f9-69a86b855600"
   },
   "outputs": [
    {
     "name": "stdout",
     "output_type": "stream",
     "text": [
      "20 12 17 21\n"
     ]
    }
   ],
   "source": [
    "DNA = 'AGCTTTTCATTCTGACTGCAACGGGCAATATGTCTCTGTGTGGATTAAAAAAAGAGTGTCTGATAGCAGC'\n",
    "print('{0} {1} {2} {3}'.format(DNA.count('A'), DNA.count('C'), DNA.count('G'), DNA.count('T')))"
   ]
  },
  {
   "cell_type": "markdown",
   "metadata": {
    "id": "KnF8dxUjQdFz"
   },
   "source": [
    "A 2 - http://rosalind.info/problems/rna/\n",
    "Dado DNA: GATGGAACTTGACTACGTAAATT"
   ]
  },
  {
   "cell_type": "code",
   "execution_count": 5,
   "metadata": {
    "colab": {
     "base_uri": "https://localhost:8080/",
     "height": 34
    },
    "id": "m3w3SQ8jQ16g",
    "outputId": "34beb546-716f-4748-8a59-c4ddc23a7845"
   },
   "outputs": [
    {
     "name": "stdout",
     "output_type": "stream",
     "text": [
      "GAUGGAACUUGACUACGUAAAUU\n"
     ]
    }
   ],
   "source": [
    "DNA = 'GATGGAACTTGACTACGTAAATT'\n",
    "print(DNA.replace('T', 'U'))"
   ]
  }
 ],
 "metadata": {
  "colab": {
   "collapsed_sections": [],
   "name": "Exercicio_A_Pâmella.ipynb",
   "provenance": []
  },
  "kernelspec": {
   "display_name": "Python 3",
   "language": "python",
   "name": "python3"
  },
  "language_info": {
   "codemirror_mode": {
    "name": "ipython",
    "version": 3
   },
   "file_extension": ".py",
   "mimetype": "text/x-python",
   "name": "python",
   "nbconvert_exporter": "python",
   "pygments_lexer": "ipython3",
   "version": "3.7.6"
  }
 },
 "nbformat": 4,
 "nbformat_minor": 1
}
