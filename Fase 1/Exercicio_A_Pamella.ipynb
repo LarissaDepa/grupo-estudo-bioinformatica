{
  "nbformat": 4,
  "nbformat_minor": 0,
  "metadata": {
    "colab": {
      "name": "Exercicio_A_Pâmella.ipynb",
      "provenance": [],
      "collapsed_sections": []
    },
    "kernelspec": {
      "name": "python3",
      "display_name": "Python 3"
    }
  },
  "cells": [
    {
      "cell_type": "markdown",
      "metadata": {
        "id": "FFUWH4s7N4ak"
      },
      "source": [
        "A 1 - http://rosalind.info/problems/dna/\n",
        "Dado DNA: AGCTTTTCATTCTGACTGCAACGGGCAATATGTCTCTGTGTGGATTAAAAAAAGAGTGTCTGATAGCAGC"
      ]
    },
    {
      "cell_type": "code",
      "metadata": {
        "id": "TCHD1BEUN_Se",
        "outputId": "94094d21-2bc8-4de4-84f9-69a86b855600",
        "colab": {
          "base_uri": "https://localhost:8080/",
          "height": 34
        }
      },
      "source": [
        "DNA = 'AGCTTTTCATTCTGACTGCAACGGGCAATATGTCTCTGTGTGGATTAAAAAAAGAGTGTCTGATAGCAGC'\n",
        "print('{0} {1} {2} {3}'.format(DNA.count('A'), DNA.count('C'), DNA.count('G'), DNA.count('T')))"
      ],
      "execution_count": 4,
      "outputs": [
        {
          "output_type": "stream",
          "text": [
            "20 12 17 21\n"
          ],
          "name": "stdout"
        }
      ]
    },
    {
      "cell_type": "markdown",
      "metadata": {
        "id": "KnF8dxUjQdFz"
      },
      "source": [
        "A 2 - http://rosalind.info/problems/rna/\n",
        "Dado DNA: GATGGAACTTGACTACGTAAATT"
      ]
    },
    {
      "cell_type": "code",
      "metadata": {
        "id": "m3w3SQ8jQ16g",
        "outputId": "34beb546-716f-4748-8a59-c4ddc23a7845",
        "colab": {
          "base_uri": "https://localhost:8080/",
          "height": 34
        }
      },
      "source": [
        "DNA = 'GATGGAACTTGACTACGTAAATT'\n",
        "print(DNA.replace('T', 'U'))"
      ],
      "execution_count": 5,
      "outputs": [
        {
          "output_type": "stream",
          "text": [
            "GAUGGAACUUGACUACGUAAAUU\n"
          ],
          "name": "stdout"
        }
      ]
    }
  ]
}