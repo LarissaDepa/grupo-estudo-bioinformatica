{
 "cells": [
  {
   "cell_type": "markdown",
   "metadata": {},
   "source": [
    "http://rosalind.info/problems/revc/\n",
    ">**Dado a  amostra**: AAAACCCGGT"
   ]
  },
  {
   "cell_type": "code",
   "execution_count": 7,
   "metadata": {},
   "outputs": [
    {
     "name": "stdout",
     "output_type": "stream",
     "text": [
      "ACCGGGTTTT\n"
     ]
    }
   ],
   "source": [
    "Seq = 'AAAACCCGGT' [::-1]\n",
    "aux = {'A':'T', 'T':'A', 'C':'G', 'G':'C'}\n",
    "formula = [aux[i] for i in Seq]\n",
    "print(''.join(formula))"
   ]
  },
  {
   "cell_type": "markdown",
   "metadata": {},
   "source": [
    ">Seq = representa um string reversa\n",
    "\n",
    ">aux = representa um dicionário\n",
    "\n",
    ">formula = representa uma lista"
   ]
  }
 ],
 "metadata": {
  "kernelspec": {
   "display_name": "Python 3",
   "language": "python",
   "name": "python3"
  },
  "language_info": {
   "codemirror_mode": {
    "name": "ipython",
    "version": 3
   },
   "file_extension": ".py",
   "mimetype": "text/x-python",
   "name": "python",
   "nbconvert_exporter": "python",
   "pygments_lexer": "ipython3",
   "version": "3.7.6"
  }
 },
 "nbformat": 4,
 "nbformat_minor": 4
}
